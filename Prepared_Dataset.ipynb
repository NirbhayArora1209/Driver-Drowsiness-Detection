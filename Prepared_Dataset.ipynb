{
 "cells": [
  {
   "cell_type": "code",
   "execution_count": 4,
   "metadata": {},
   "outputs": [],
   "source": [
    "import os \n",
    "import shutil\n",
    "import glob\n",
    "from tqdm import tqdm"
   ]
  },
  {
   "cell_type": "code",
   "execution_count": 3,
   "metadata": {},
   "outputs": [
    {
     "name": "stderr",
     "output_type": "stream",
     "text": [
      "0it [00:00, ?it/s]\n",
      "100%|██████████| 3242/3242 [01:02<00:00, 51.88it/s]\n",
      "100%|██████████| 1114/1114 [00:21<00:00, 50.82it/s]\n",
      "100%|██████████| 679/679 [00:12<00:00, 52.68it/s]\n",
      "100%|██████████| 1069/1069 [00:22<00:00, 48.06it/s]\n",
      "100%|██████████| 736/736 [00:14<00:00, 50.15it/s]\n",
      "100%|██████████| 1012/1012 [00:19<00:00, 51.69it/s]\n",
      "100%|██████████| 624/624 [00:12<00:00, 50.01it/s]\n",
      "100%|██████████| 832/832 [00:15<00:00, 52.60it/s]\n",
      "100%|██████████| 387/387 [00:08<00:00, 47.24it/s]\n",
      "100%|██████████| 399/399 [00:08<00:00, 49.11it/s]\n",
      "100%|██████████| 1648/1648 [00:33<00:00, 49.88it/s]\n",
      "100%|██████████| 8728/8728 [02:40<00:00, 54.45it/s]\n",
      "100%|██████████| 3605/3605 [01:17<00:00, 46.52it/s]\n",
      "100%|██████████| 8884/8884 [02:24<00:00, 61.28it/s]\n",
      "100%|██████████| 1132/1132 [00:20<00:00, 54.88it/s]\n",
      "100%|██████████| 1889/1889 [00:31<00:00, 59.74it/s]\n",
      "100%|██████████| 1648/1648 [00:28<00:00, 58.40it/s]\n",
      "100%|██████████| 4410/4410 [01:16<00:00, 57.55it/s]\n",
      "100%|██████████| 6175/6175 [01:44<00:00, 59.23it/s]\n",
      "100%|██████████| 704/704 [00:11<00:00, 62.23it/s]\n",
      "100%|██████████| 987/987 [00:15<00:00, 63.66it/s]\n",
      "100%|██████████| 382/382 [00:06<00:00, 56.37it/s]\n",
      "100%|██████████| 522/522 [00:09<00:00, 55.01it/s]\n",
      "100%|██████████| 752/752 [00:13<00:00, 57.01it/s]\n",
      "100%|██████████| 1502/1502 [00:25<00:00, 59.39it/s]\n",
      "100%|██████████| 1246/1246 [00:22<00:00, 54.96it/s]\n",
      "100%|██████████| 665/665 [00:13<00:00, 49.24it/s]\n",
      "100%|██████████| 736/736 [00:12<00:00, 56.80it/s]\n",
      "100%|██████████| 1393/1393 [00:24<00:00, 56.98it/s]\n",
      "100%|██████████| 1384/1384 [00:23<00:00, 59.30it/s]\n",
      "100%|██████████| 1738/1738 [01:23<00:00, 20.78it/s]\n",
      "100%|██████████| 6162/6162 [01:13<00:00, 83.97it/s]\n",
      "100%|██████████| 514/514 [00:05<00:00, 90.70it/s]\n"
     ]
    }
   ],
   "source": [
    "Raw_DIR=r'C:\\Users\\nirbh\\Downloads\\mrlEyes_2018_01\\mrlEyes_2018_01'\n",
    "for dirpath, dirname, filenames in os.walk(Raw_DIR):\n",
    "    for i in tqdm([f for f in filenames if f.endswith('.png')]):\n",
    "        if i.split('_')[4]=='0':\n",
    "            shutil.copy(src=dirpath+'/'+i, dst=r'C:\\Users\\nirbh\\Desktop\\DriverDrowsiness\\Dataset_New\\Closed_Eyes')\n",
    "        elif i.split('_')[4]=='1':\n",
    "            shutil.copy(src=dirpath+'/'+i, dst=r'C:\\Users\\nirbh\\Desktop\\DriverDrowsiness\\Dataset_New\\Open_Eyes')\n"
   ]
  },
  {
   "cell_type": "code",
   "execution_count": 2,
   "metadata": {},
   "outputs": [],
   "source": [
    "import random\n",
    "\n",
    "def create_test_set(source_directory, destination_directory, percent):\n",
    "    '''\n",
    "    Divides images from the source directory into a test set and moves them to the destination directory.\n",
    "\n",
    "    Arguments:\n",
    "    source_directory (str): Path to the source directory containing image files.\n",
    "    destination_directory (str): Path to the destination directory where the test set will be created.\n",
    "    percent (float, optional): Percentage of data to be moved (default is 0.2, which means 20% of the data).\n",
    "    '''\n",
    "    if not os.path.exists(source_directory):\n",
    "        print(f\"Source directory '{source_directory}' does not exist.\")\n",
    "        return\n",
    "\n",
    "    if not os.path.exists(destination_directory):\n",
    "        os.makedirs(destination_directory)\n",
    "\n",
    "    files = os.listdir(source_directory)\n",
    "    num_files = len(files)\n",
    "    num_to_move = int(num_files * percent)\n",
    "\n",
    "    selected_files = random.sample(files, num_to_move)\n",
    "\n",
    "    for file_name in selected_files:\n",
    "        source_file_path = os.path.join(source_directory, file_name)\n",
    "        destination_file_path = os.path.join(destination_directory, file_name)\n",
    "        shutil.move(source_file_path, destination_file_path)\n",
    "\n",
    "    print(f\"Moved {num_to_move} images to the destination successfully.\")\n"
   ]
  },
  {
   "cell_type": "code",
   "execution_count": 5,
   "metadata": {},
   "outputs": [
    {
     "name": "stdout",
     "output_type": "stream",
     "text": [
      "Moved 6739 images to the destination successfully.\n"
     ]
    }
   ],
   "source": [
    "create_test_set(r'C:\\Users\\nirbh\\Desktop\\DriverDrowsiness\\Dataset_New\\train\\Closed_Eyes', \n",
    "                r'C:\\Users\\nirbh\\Desktop\\DriverDrowsiness\\Dataset_New\\test\\closed_eyes', \n",
    "                0.2)"
   ]
  },
  {
   "cell_type": "code",
   "execution_count": 6,
   "metadata": {},
   "outputs": [
    {
     "name": "stdout",
     "output_type": "stream",
     "text": [
      "Moved 6640 images to the destination successfully.\n"
     ]
    }
   ],
   "source": [
    "create_test_set(r'C:\\Users\\nirbh\\Desktop\\DriverDrowsiness\\Dataset_New\\train\\Open_Eyes', \n",
    "                r'C:\\Users\\nirbh\\Desktop\\DriverDrowsiness\\Dataset_New\\test\\Open_Eyes', \n",
    "                0.2)"
   ]
  }
 ],
 "metadata": {
  "kernelspec": {
   "display_name": "Python 3",
   "language": "python",
   "name": "python3"
  },
  "language_info": {
   "codemirror_mode": {
    "name": "ipython",
    "version": 3
   },
   "file_extension": ".py",
   "mimetype": "text/x-python",
   "name": "python",
   "nbconvert_exporter": "python",
   "pygments_lexer": "ipython3",
   "version": "3.10.11"
  }
 },
 "nbformat": 4,
 "nbformat_minor": 2
}
